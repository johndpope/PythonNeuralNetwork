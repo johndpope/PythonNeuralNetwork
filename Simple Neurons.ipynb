{
 "cells": [
  {
   "cell_type": "markdown",
   "metadata": {},
   "source": [
    "# Simple Neurons: The Basics Of Neural Networks\n",
    "This notebook is where I explore neural networks on a much more basic and fundamental level. Instead of focusing on creating a NN that can solve the universe, I want to fully aquaint myself with the fundamentals of linear algebra in ML, backpropogation and optimisation techniques. That's what this notebook is aimed to do: simply learn the basics in a much more controlled way.\n",
    "\n",
    "I'll be using a simple case of three input neurons, _no_ hidden neurons and a single output neuron. I've designed the system this way since I want to attempt to \"learn\" the behaviour of an AND gate and an OR gatye\n",
    "\n",
    "## Acknowledgements\n",
    "Once again, I'm using a plethora of material to learn about NN and how to implement them. In no particular order, here are my main reads that have helped me massively.\n",
    " - iamtrask's blog article on \"[A Neural Network in 11 lines of Python](https://iamtrask.github.io/2015/07/12/basic-python-network/)\"\n",
    " - Matt Mazur's fantastic article on the theory behind backpropogation, \"[A Step by Step Backpropagation Example](https://mattmazur.com/2015/03/17/a-step-by-step-backpropagation-example/)\" \n",
    " - Analytics Vidhya's article on \"[Understanding and coding Neural Networks From Scratch in Python and R](https://www.analyticsvidhya.com/blog/2017/05/neural-network-from-scratch-in-python-and-r/)\""
   ]
  }
 ],
 "metadata": {
  "kernelspec": {
   "display_name": "Python 2",
   "language": "python",
   "name": "python2"
  },
  "language_info": {
   "codemirror_mode": {
    "name": "ipython",
    "version": 2
   },
   "file_extension": ".py",
   "mimetype": "text/x-python",
   "name": "python",
   "nbconvert_exporter": "python",
   "pygments_lexer": "ipython2",
   "version": "2.7.13"
  }
 },
 "nbformat": 4,
 "nbformat_minor": 2
}
